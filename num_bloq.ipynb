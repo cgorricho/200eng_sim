{
 "cells": [
  {
   "cell_type": "code",
   "execution_count": 17,
   "metadata": {},
   "outputs": [],
   "source": [
    "#importa dependencias\n",
    "from pymysql import connect\n",
    "import pandas as pd\n",
    "from time import sleep\n",
    "from textwrap import dedent\n",
    "import matplotlib.pyplot as plt\n",
    "import seaborn as sns\n",
    "from millify import millify, prettify\n",
    "import os\n",
    "from sqlalchemy import create_engine\n",
    "import plotly.express as px\n",
    "import random\n",
    "from datetime import datetime, time, timedelta, date, timezone\n",
    "from functools import reduce\n"
   ]
  },
  {
   "cell_type": "code",
   "execution_count": 2,
   "metadata": {},
   "outputs": [],
   "source": [
    "url_backup = '86.106.183.70'\n",
    "\n",
    "database_backup = ['marcador1',\n",
    "                   'marcador2',\n",
    "                   'marcador3',\n",
    "                   'marcador4',\n",
    "                   'marcador6',\n",
    "                   'marcador7']"
   ]
  },
  {
   "cell_type": "code",
   "execution_count": 3,
   "metadata": {},
   "outputs": [],
   "source": [
    "user = 'carlosai'\n",
    "password = 'OKJmBUIFnh'\n",
    "password_prod = 'nOmG2hhnQI'\n",
    "port = '3306'\n",
    "database = 'mbilling'"
   ]
  },
  {
   "cell_type": "code",
   "execution_count": 4,
   "metadata": {},
   "outputs": [
    {
     "name": "stdout",
     "output_type": "stream",
     "text": [
      "Conexión exitosa a base de datos marcador1 con ip 86.106.183.70\n",
      "Conexión exitosa a base de datos marcador2 con ip 86.106.183.70\n",
      "Conexión exitosa a base de datos marcador3 con ip 86.106.183.70\n",
      "Conexión exitosa a base de datos marcador4 con ip 86.106.183.70\n",
      "Conexión exitosa a base de datos marcador6 con ip 86.106.183.70\n",
      "Conexión exitosa a base de datos marcador7 con ip 86.106.183.70\n"
     ]
    },
    {
     "data": {
      "text/plain": [
       "{'marcador1': <pymysql.connections.Connection at 0x7f61e333c620>,\n",
       " 'marcador2': <pymysql.connections.Connection at 0x7f61e386b080>,\n",
       " 'marcador3': <pymysql.connections.Connection at 0x7f6228685340>,\n",
       " 'marcador4': <pymysql.connections.Connection at 0x7f61e3635760>,\n",
       " 'marcador6': <pymysql.connections.Connection at 0x7f61e33d4bc0>,\n",
       " 'marcador7': <pymysql.connections.Connection at 0x7f61e33d5cd0>}"
      ]
     },
     "execution_count": 4,
     "metadata": {},
     "output_type": "execute_result"
    }
   ],
   "source": [
    "# creación de un diccionario de bd para cada marcadro con pymysql\n",
    "\n",
    "def connect_to_db_backup():\n",
    "    bd = {}\n",
    "    cursores = {}\n",
    "\n",
    "    for dbase in database_backup:\n",
    "        try:    \n",
    "            # crea la conexión\n",
    "            bd[f'{dbase}'] = connect(host = url_backup,\n",
    "                                            user=user,\n",
    "                                            passwd=password,\n",
    "                                            database=dbase,\n",
    "                                            )\n",
    "\n",
    "            # crea el cursor\n",
    "            cursores[f'cursor_{dbase}'] = bd[f'{dbase}'].cursor()\n",
    "            print(f'Conexión exitosa a base de datos {dbase} con ip {url_backup}')\n",
    "        except:\n",
    "            print(f'Error conectando a base de datos {dbase} con ip {url_backup}')\n",
    "            continue\n",
    "    return bd, cursores\n",
    "\n",
    "bd_backup, cursores_backup = connect_to_db_backup()\n",
    "\n",
    "bd_backup\n"
   ]
  },
  {
   "cell_type": "code",
   "execution_count": 5,
   "metadata": {},
   "outputs": [
    {
     "name": "stdout",
     "output_type": "stream",
     "text": [
      "Fecha de inicio: 2023-01-01\n",
      "Fecha de final: 2024-08-31\n"
     ]
    }
   ],
   "source": [
    "# rango de 1 mes\n",
    "fecha_inicio = datetime(2023, 1, 1).strftime('%Y-%m-%d')\n",
    "fecha_final = datetime(2024, 8, 31).strftime('%Y-%m-%d')\n",
    "\n",
    "print(f'Fecha de inicio: {fecha_inicio}\\nFecha de final: {fecha_final}')\n"
   ]
  },
  {
   "cell_type": "code",
   "execution_count": 6,
   "metadata": {},
   "outputs": [
    {
     "name": "stdout",
     "output_type": "stream",
     "text": [
      "Query a correr:\n",
      "\n",
      "SELECT DISTINCT number\n",
      "FROM pkg_campaign_restrict_phone\n",
      "WHERE description <> '' AND description is not NULL;\n",
      "\n"
     ]
    }
   ],
   "source": [
    "# define la consulta (query)\n",
    "query_block = dedent(f\"\"\"\n",
    "        SELECT DISTINCT number\n",
    "        FROM pkg_campaign_restrict_phone\n",
    "        WHERE description <> '' AND description is not NULL;\n",
    "        \"\"\")\n",
    "\n",
    "print(f'Query a correr:\\n{query_block}')"
   ]
  },
  {
   "cell_type": "code",
   "execution_count": 7,
   "metadata": {},
   "outputs": [],
   "source": [
    "# crea una función para devolver cada df con pymysql\n",
    "def get_df(bd, bd_name, query):\n",
    "    df_temp = pd.read_sql(query, bd)\n",
    "    df_temp['bd'] = bd_name\n",
    "\n",
    "    return df_temp"
   ]
  },
  {
   "cell_type": "code",
   "execution_count": 8,
   "metadata": {},
   "outputs": [
    {
     "name": "stdout",
     "output_type": "stream",
     "text": [
      "Consultando marcador1...\n"
     ]
    },
    {
     "name": "stderr",
     "output_type": "stream",
     "text": [
      "/tmp/ipykernel_677450/2983119101.py:3: UserWarning: pandas only supports SQLAlchemy connectable (engine/connection) or database string URI or sqlite3 DBAPI2 connection. Other DBAPI2 objects are not tested. Please consider using SQLAlchemy.\n",
      "  df_temp = pd.read_sql(query, bd)\n"
     ]
    },
    {
     "name": "stdout",
     "output_type": "stream",
     "text": [
      "Consulta marcador1 OK\n",
      "Consultando marcador2...\n"
     ]
    },
    {
     "name": "stderr",
     "output_type": "stream",
     "text": [
      "/tmp/ipykernel_677450/2983119101.py:3: UserWarning: pandas only supports SQLAlchemy connectable (engine/connection) or database string URI or sqlite3 DBAPI2 connection. Other DBAPI2 objects are not tested. Please consider using SQLAlchemy.\n",
      "  df_temp = pd.read_sql(query, bd)\n"
     ]
    },
    {
     "name": "stdout",
     "output_type": "stream",
     "text": [
      "Consulta marcador2 OK\n",
      "Consultando marcador3...\n"
     ]
    },
    {
     "name": "stderr",
     "output_type": "stream",
     "text": [
      "/tmp/ipykernel_677450/2983119101.py:3: UserWarning: pandas only supports SQLAlchemy connectable (engine/connection) or database string URI or sqlite3 DBAPI2 connection. Other DBAPI2 objects are not tested. Please consider using SQLAlchemy.\n",
      "  df_temp = pd.read_sql(query, bd)\n"
     ]
    },
    {
     "name": "stdout",
     "output_type": "stream",
     "text": [
      "Consulta marcador3 OK\n",
      "Consultando marcador4...\n"
     ]
    },
    {
     "name": "stderr",
     "output_type": "stream",
     "text": [
      "/tmp/ipykernel_677450/2983119101.py:3: UserWarning: pandas only supports SQLAlchemy connectable (engine/connection) or database string URI or sqlite3 DBAPI2 connection. Other DBAPI2 objects are not tested. Please consider using SQLAlchemy.\n",
      "  df_temp = pd.read_sql(query, bd)\n"
     ]
    },
    {
     "name": "stdout",
     "output_type": "stream",
     "text": [
      "Consulta marcador4 OK\n",
      "Consultando marcador6...\n"
     ]
    },
    {
     "name": "stderr",
     "output_type": "stream",
     "text": [
      "/tmp/ipykernel_677450/2983119101.py:3: UserWarning: pandas only supports SQLAlchemy connectable (engine/connection) or database string URI or sqlite3 DBAPI2 connection. Other DBAPI2 objects are not tested. Please consider using SQLAlchemy.\n",
      "  df_temp = pd.read_sql(query, bd)\n"
     ]
    },
    {
     "name": "stdout",
     "output_type": "stream",
     "text": [
      "Consulta marcador6 OK\n",
      "Consultando marcador7...\n"
     ]
    },
    {
     "name": "stderr",
     "output_type": "stream",
     "text": [
      "/tmp/ipykernel_677450/2983119101.py:3: UserWarning: pandas only supports SQLAlchemy connectable (engine/connection) or database string URI or sqlite3 DBAPI2 connection. Other DBAPI2 objects are not tested. Please consider using SQLAlchemy.\n",
      "  df_temp = pd.read_sql(query, bd)\n"
     ]
    },
    {
     "name": "stdout",
     "output_type": "stream",
     "text": [
      "Consulta marcador7 OK\n"
     ]
    }
   ],
   "source": [
    "#lista de df\n",
    "# df_list = [get_df(bd[f'marcador_{ind}'], f'marcador_{ind}', query) for ind in ind_marcadores]\n",
    "\n",
    "df_list = []\n",
    "for dbase in database_backup:\n",
    "    query_ok = False\n",
    "    conn_ok = False\n",
    "    print(f'Consultando {dbase}...')\n",
    "    while not query_ok:\n",
    "        try:\n",
    "            df_list.append(get_df(bd_backup[f'{dbase}'], f'{dbase}', query_block))\n",
    "            query_ok = True\n",
    "            print(f'Consulta {dbase} OK')\n",
    "        except Exception as e:\n",
    "            print(f'Consulta {dbase} con ERROR {e}')\n",
    "            break\n",
    "            # while not conn_ok:\n",
    "            #     try:\n",
    "            #         bd_backup, _ = connect_to_db_backup()\n",
    "            #         conn_ok = True\n",
    "            #         print(f'Nueva conexión bd OK')\n",
    "            #     except:\n",
    "            #         print(f'Nueva conexión bd con ERROR')\n",
    "            #         sleep(5)\n",
    "            \n"
   ]
  },
  {
   "cell_type": "code",
   "execution_count": 14,
   "metadata": {},
   "outputs": [
    {
     "data": {
      "text/html": [
       "<div>\n",
       "<style scoped>\n",
       "    .dataframe tbody tr th:only-of-type {\n",
       "        vertical-align: middle;\n",
       "    }\n",
       "\n",
       "    .dataframe tbody tr th {\n",
       "        vertical-align: top;\n",
       "    }\n",
       "\n",
       "    .dataframe thead th {\n",
       "        text-align: right;\n",
       "    }\n",
       "</style>\n",
       "<table border=\"1\" class=\"dataframe\">\n",
       "  <thead>\n",
       "    <tr style=\"text-align: right;\">\n",
       "      <th></th>\n",
       "      <th>number</th>\n",
       "      <th>bd</th>\n",
       "    </tr>\n",
       "  </thead>\n",
       "  <tbody>\n",
       "    <tr>\n",
       "      <th>0</th>\n",
       "      <td>18002001956</td>\n",
       "      <td>marcador7</td>\n",
       "    </tr>\n",
       "    <tr>\n",
       "      <th>1</th>\n",
       "      <td>18002002000</td>\n",
       "      <td>marcador7</td>\n",
       "    </tr>\n",
       "    <tr>\n",
       "      <th>2</th>\n",
       "      <td>18002002665</td>\n",
       "      <td>marcador7</td>\n",
       "    </tr>\n",
       "    <tr>\n",
       "      <th>3</th>\n",
       "      <td>18002003111</td>\n",
       "      <td>marcador7</td>\n",
       "    </tr>\n",
       "    <tr>\n",
       "      <th>4</th>\n",
       "      <td>18002004672</td>\n",
       "      <td>marcador7</td>\n",
       "    </tr>\n",
       "    <tr>\n",
       "      <th>...</th>\n",
       "      <td>...</td>\n",
       "      <td>...</td>\n",
       "    </tr>\n",
       "    <tr>\n",
       "      <th>17198</th>\n",
       "      <td>18889993089</td>\n",
       "      <td>marcador7</td>\n",
       "    </tr>\n",
       "    <tr>\n",
       "      <th>17199</th>\n",
       "      <td>18889993775</td>\n",
       "      <td>marcador7</td>\n",
       "    </tr>\n",
       "    <tr>\n",
       "      <th>17200</th>\n",
       "      <td>18889994803</td>\n",
       "      <td>marcador7</td>\n",
       "    </tr>\n",
       "    <tr>\n",
       "      <th>17201</th>\n",
       "      <td>18889996569</td>\n",
       "      <td>marcador7</td>\n",
       "    </tr>\n",
       "    <tr>\n",
       "      <th>17202</th>\n",
       "      <td>18889999101</td>\n",
       "      <td>marcador7</td>\n",
       "    </tr>\n",
       "  </tbody>\n",
       "</table>\n",
       "<p>17203 rows × 2 columns</p>\n",
       "</div>"
      ],
      "text/plain": [
       "            number         bd\n",
       "0      18002001956  marcador7\n",
       "1      18002002000  marcador7\n",
       "2      18002002665  marcador7\n",
       "3      18002003111  marcador7\n",
       "4      18002004672  marcador7\n",
       "...            ...        ...\n",
       "17198  18889993089  marcador7\n",
       "17199  18889993775  marcador7\n",
       "17200  18889994803  marcador7\n",
       "17201  18889996569  marcador7\n",
       "17202  18889999101  marcador7\n",
       "\n",
       "[17203 rows x 2 columns]"
      ]
     },
     "execution_count": 14,
     "metadata": {},
     "output_type": "execute_result"
    }
   ],
   "source": [
    "df_list[5]"
   ]
  },
  {
   "cell_type": "code",
   "execution_count": 15,
   "metadata": {},
   "outputs": [],
   "source": [
    "# Keep only the 'number' column from each DataFrame\n",
    "df_list = [df[['number']] for df in df_list]"
   ]
  },
  {
   "cell_type": "code",
   "execution_count": 16,
   "metadata": {},
   "outputs": [
    {
     "data": {
      "text/html": [
       "<div>\n",
       "<style scoped>\n",
       "    .dataframe tbody tr th:only-of-type {\n",
       "        vertical-align: middle;\n",
       "    }\n",
       "\n",
       "    .dataframe tbody tr th {\n",
       "        vertical-align: top;\n",
       "    }\n",
       "\n",
       "    .dataframe thead th {\n",
       "        text-align: right;\n",
       "    }\n",
       "</style>\n",
       "<table border=\"1\" class=\"dataframe\">\n",
       "  <thead>\n",
       "    <tr style=\"text-align: right;\">\n",
       "      <th></th>\n",
       "      <th>number</th>\n",
       "    </tr>\n",
       "  </thead>\n",
       "  <tbody>\n",
       "    <tr>\n",
       "      <th>0</th>\n",
       "      <td>18002001956</td>\n",
       "    </tr>\n",
       "    <tr>\n",
       "      <th>1</th>\n",
       "      <td>18002002000</td>\n",
       "    </tr>\n",
       "    <tr>\n",
       "      <th>2</th>\n",
       "      <td>18002002665</td>\n",
       "    </tr>\n",
       "    <tr>\n",
       "      <th>3</th>\n",
       "      <td>18002003111</td>\n",
       "    </tr>\n",
       "    <tr>\n",
       "      <th>4</th>\n",
       "      <td>18002004672</td>\n",
       "    </tr>\n",
       "    <tr>\n",
       "      <th>...</th>\n",
       "      <td>...</td>\n",
       "    </tr>\n",
       "    <tr>\n",
       "      <th>17198</th>\n",
       "      <td>18889993089</td>\n",
       "    </tr>\n",
       "    <tr>\n",
       "      <th>17199</th>\n",
       "      <td>18889993775</td>\n",
       "    </tr>\n",
       "    <tr>\n",
       "      <th>17200</th>\n",
       "      <td>18889994803</td>\n",
       "    </tr>\n",
       "    <tr>\n",
       "      <th>17201</th>\n",
       "      <td>18889996569</td>\n",
       "    </tr>\n",
       "    <tr>\n",
       "      <th>17202</th>\n",
       "      <td>18889999101</td>\n",
       "    </tr>\n",
       "  </tbody>\n",
       "</table>\n",
       "<p>17203 rows × 1 columns</p>\n",
       "</div>"
      ],
      "text/plain": [
       "            number\n",
       "0      18002001956\n",
       "1      18002002000\n",
       "2      18002002665\n",
       "3      18002003111\n",
       "4      18002004672\n",
       "...            ...\n",
       "17198  18889993089\n",
       "17199  18889993775\n",
       "17200  18889994803\n",
       "17201  18889996569\n",
       "17202  18889999101\n",
       "\n",
       "[17203 rows x 1 columns]"
      ]
     },
     "execution_count": 16,
     "metadata": {},
     "output_type": "execute_result"
    }
   ],
   "source": [
    "df_list[5]"
   ]
  },
  {
   "cell_type": "code",
   "execution_count": 18,
   "metadata": {},
   "outputs": [
    {
     "data": {
      "text/html": [
       "<div>\n",
       "<style scoped>\n",
       "    .dataframe tbody tr th:only-of-type {\n",
       "        vertical-align: middle;\n",
       "    }\n",
       "\n",
       "    .dataframe tbody tr th {\n",
       "        vertical-align: top;\n",
       "    }\n",
       "\n",
       "    .dataframe thead th {\n",
       "        text-align: right;\n",
       "    }\n",
       "</style>\n",
       "<table border=\"1\" class=\"dataframe\">\n",
       "  <thead>\n",
       "    <tr style=\"text-align: right;\">\n",
       "      <th></th>\n",
       "      <th>number</th>\n",
       "    </tr>\n",
       "  </thead>\n",
       "  <tbody>\n",
       "    <tr>\n",
       "      <th>0</th>\n",
       "      <td>18002001956</td>\n",
       "    </tr>\n",
       "    <tr>\n",
       "      <th>1</th>\n",
       "      <td>18002002000</td>\n",
       "    </tr>\n",
       "    <tr>\n",
       "      <th>2</th>\n",
       "      <td>18002002665</td>\n",
       "    </tr>\n",
       "    <tr>\n",
       "      <th>3</th>\n",
       "      <td>18002003111</td>\n",
       "    </tr>\n",
       "    <tr>\n",
       "      <th>4</th>\n",
       "      <td>18002004672</td>\n",
       "    </tr>\n",
       "    <tr>\n",
       "      <th>...</th>\n",
       "      <td>...</td>\n",
       "    </tr>\n",
       "    <tr>\n",
       "      <th>17198</th>\n",
       "      <td>18889993089</td>\n",
       "    </tr>\n",
       "    <tr>\n",
       "      <th>17199</th>\n",
       "      <td>18889993775</td>\n",
       "    </tr>\n",
       "    <tr>\n",
       "      <th>17200</th>\n",
       "      <td>18889994803</td>\n",
       "    </tr>\n",
       "    <tr>\n",
       "      <th>17201</th>\n",
       "      <td>18889996569</td>\n",
       "    </tr>\n",
       "    <tr>\n",
       "      <th>17202</th>\n",
       "      <td>18889999101</td>\n",
       "    </tr>\n",
       "  </tbody>\n",
       "</table>\n",
       "<p>17203 rows × 1 columns</p>\n",
       "</div>"
      ],
      "text/plain": [
       "            number\n",
       "0      18002001956\n",
       "1      18002002000\n",
       "2      18002002665\n",
       "3      18002003111\n",
       "4      18002004672\n",
       "...            ...\n",
       "17198  18889993089\n",
       "17199  18889993775\n",
       "17200  18889994803\n",
       "17201  18889996569\n",
       "17202  18889999101\n",
       "\n",
       "[17203 rows x 1 columns]"
      ]
     },
     "execution_count": 18,
     "metadata": {},
     "output_type": "execute_result"
    }
   ],
   "source": [
    "# Perform an inner join to get only the common 'number' values across all DataFrames\n",
    "common_bloq_numbers = reduce(lambda left, right: pd.merge(left, right, on='number', how='inner'), df_list)\n",
    "common_bloq_numbers\n"
   ]
  },
  {
   "cell_type": "code",
   "execution_count": 21,
   "metadata": {},
   "outputs": [],
   "source": [
    "common_bloq_numbers.to_csv('dest_num_bloq_preventivo.csv', index=False)"
   ]
  },
  {
   "cell_type": "code",
   "execution_count": null,
   "metadata": {},
   "outputs": [],
   "source": []
  },
  {
   "cell_type": "code",
   "execution_count": null,
   "metadata": {},
   "outputs": [],
   "source": []
  }
 ],
 "metadata": {
  "kernelspec": {
   "display_name": "base",
   "language": "python",
   "name": "python3"
  },
  "language_info": {
   "codemirror_mode": {
    "name": "ipython",
    "version": 3
   },
   "file_extension": ".py",
   "mimetype": "text/x-python",
   "name": "python",
   "nbconvert_exporter": "python",
   "pygments_lexer": "ipython3",
   "version": "3.12.4"
  }
 },
 "nbformat": 4,
 "nbformat_minor": 2
}
